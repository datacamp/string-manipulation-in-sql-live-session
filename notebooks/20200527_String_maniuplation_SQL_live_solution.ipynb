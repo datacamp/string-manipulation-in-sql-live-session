{
  "nbformat": 4,
  "nbformat_minor": 0,
  "metadata": {
    "colab": {
      "name": "20200527 String_maniuplation_SQL_live_solution.ipynb",
      "provenance": [],
      "collapsed_sections": [
        "agoSpqYunxZ1"
      ]
    },
    "kernelspec": {
      "name": "python3",
      "display_name": "Python 3"
    }
  },
  "cells": [
    {
      "cell_type": "markdown",
      "metadata": {
        "id": "tnjoHnXBnlof",
        "colab_type": "text"
      },
      "source": [
        "<p align=\"center\">\n",
        "<img src=\"https://github.com/datacamp/string-manipulation-in-sql-live-session/blob/master/assets/datacamp.svg?raw=True\" alt = \"DataCamp icon\" width=\"50%\">\n",
        "</p>\n",
        "<br><br>\n",
        "\n",
        "## **PostgreSQL Live Training Template**\n",
        "\n",
        "Welcome to the DataCamp \"String Manipulation in SQL\", where we will be covering a deep dive into a variety of techiques you can use to manipulate sting data in your SQL queries. Through a hands on coding session you will learn how to use built-in functions [...] to answer our real world business questions.\n",
        "\n",
        "In today's notebook, you will learn:\n",
        "\n",
        "- Explore a dataset in a SQL database by examining table structure and data types\n",
        "- Converting or casting common data types\n",
        "- How to manipulate string data using built-in string and character functions\n",
        "- Create temporary tables and use them to simplify complex queries\n",
        "- Learn how to use temporary tables to create new fields from unstructured string data\n",
        "- Create user defined functions that can be used to simplify data manipulation tasks\n",
        "\n",
        "## **The Dataset**\n",
        "\n",
        "This data is taken from a .csv file called \"short_term_rentals\". As today's session will focus on creating queries. It contains the following columns.\n",
        "\n",
        "- `id`: Unique identifier for rental ID\n",
        "- `issue_date`: Date of Issue for the Short Term Rental certificate\n",
        "- `status`: Application status.\n",
        "- `location`: Rental Location\n",
        "- `property_type`: Description of the building property type.\n",
        "- `property_type_additional_description`: Additional building property type information.\n",
        "- `condo_association`: Is the Short-Term Rental Unit part of a condominium association?\n",
        "- `total_bedrooms`: Total number of legal bedrooms in the short-term rental unit\n",
        "- `rented_bedrooms`: Number of legal bedrooms to be rented as part of this application.\n",
        "- `maximum_renter_capacity`: Maximum number of people to which the short term rental will be rented.\n",
        "- `kitchen`: Will the kitchen be available to the renter?\n",
        "- `bathrooms`: Number of bathrooms available to the renter.\n",
        "- `all_rental_services`: A single column list of all rental services used by this property.\n",
        "\n"
      ]
    },
    {
      "cell_type": "markdown",
      "metadata": {
        "id": "agoSpqYunxZ1",
        "colab_type": "text"
      },
      "source": [
        "## **Setting up PostgreSQL**"
      ]
    },
    {
      "cell_type": "code",
      "metadata": {
        "id": "WZ-Rqu2yoCzR",
        "colab_type": "code",
        "colab": {}
      },
      "source": [
        "#@title **This block of code will install PosgreSQL**\n",
        "%%capture\n",
        "!wget -qO- https://www.postgresql.org/media/keys/ACCC4CF8.asc | apt-key add -\n",
        "!echo \"deb http://apt.postgresql.org/pub/repos/apt/ bionic-pgdg main\" >/etc/apt/sources.list.d/pgdg.list\n",
        "!apt -qq update\n",
        "!apt -yq install postgresql-12 postgresql-client-12\n",
        "!service postgresql start\n",
        "# make calling psql shorter\n",
        "!sudo -u postgres psql -c \"CREATE USER root WITH SUPERUSER\"  \n",
        "!psql postgres -c \"CREATE DATABASE root\"  # now just !psql -c \"...\"\n",
        "# load SQL extensions\n",
        "%load_ext sql\n",
        "%config SqlMagic.feedback=False \n",
        "%config SqlMagic.autopandas=True\n",
        "%sql postgresql+psycopg2://@/postgres"
      ],
      "execution_count": 0,
      "outputs": []
    },
    {
      "cell_type": "code",
      "metadata": {
        "id": "5spm-fLTn7oP",
        "colab_type": "code",
        "colab": {}
      },
      "source": [
        "#@title **This will download your data to local environment**\n",
        "!wget -q https://raw.githubusercontent.com/datacamp/string-manipulation-in-sql-live-session/master/data/short_term_rentals.csv"
      ],
      "execution_count": 0,
      "outputs": []
    },
    {
      "cell_type": "code",
      "metadata": {
        "id": "4fiq0KKsokAX",
        "colab_type": "code",
        "outputId": "d3e16a06-b453-4ecb-a295-10b251ebfeb0",
        "colab": {
          "base_uri": "https://localhost:8080/",
          "height": 49
        }
      },
      "source": [
        "#@title **This will create your table**\n",
        "%%sql\n",
        "-- Make sure to amend you table name, column names and types\n",
        "DROP TABLE IF EXISTS rentals;\n",
        "CREATE TABLE rentals(\n",
        " id int primary key,\n",
        " issue_date text,\n",
        " status text,\n",
        " location text,\n",
        " short_term_rental_type text,\n",
        " property_type text,\n",
        " property_type_additional_description text,\n",
        " condo_association text,\n",
        " total_bedrooms numeric,\n",
        " rented_bedrooms numeric,\n",
        " maximum_renter_capacity numeric,\n",
        " kitchen text,\n",
        " bathrooms numeric,\n",
        " all_rental_services text\n",
        ");\n",
        "COPY rentals\n",
        "-- Make sure to point to correct file and delimiter \n",
        "FROM '/content/short_term_rentals.csv' DELIMITER ',' CSV HEADER;"
      ],
      "execution_count": 3,
      "outputs": [
        {
          "output_type": "stream",
          "text": [
            " * postgresql+psycopg2://@/postgres\n"
          ],
          "name": "stdout"
        },
        {
          "output_type": "execute_result",
          "data": {
            "text/html": [
              "<div>\n",
              "<style scoped>\n",
              "    .dataframe tbody tr th:only-of-type {\n",
              "        vertical-align: middle;\n",
              "    }\n",
              "\n",
              "    .dataframe tbody tr th {\n",
              "        vertical-align: top;\n",
              "    }\n",
              "\n",
              "    .dataframe thead th {\n",
              "        text-align: right;\n",
              "    }\n",
              "</style>\n",
              "<table border=\"1\" class=\"dataframe\">\n",
              "  <thead>\n",
              "    <tr style=\"text-align: right;\">\n",
              "      <th></th>\n",
              "    </tr>\n",
              "  </thead>\n",
              "  <tbody>\n",
              "  </tbody>\n",
              "</table>\n",
              "</div>"
            ],
            "text/plain": [
              "Empty DataFrame\n",
              "Columns: []\n",
              "Index: []"
            ]
          },
          "metadata": {
            "tags": []
          },
          "execution_count": 3
        }
      ]
    },
    {
      "cell_type": "markdown",
      "metadata": {
        "id": "cr7faFg5HfaT",
        "colab_type": "text"
      },
      "source": [
        "# **Exploring the Dataset**"
      ]
    },
    {
      "cell_type": "markdown",
      "metadata": {
        "id": "TCL0h4vzvW72",
        "colab_type": "text"
      },
      "source": [
        "Now that we have PostgreSQL installed and our dataset loaded, let's take a closer look at the data that we'll be working with. "
      ]
    },
    {
      "cell_type": "code",
      "metadata": {
        "id": "U-7SSn2DvKkZ",
        "colab_type": "code",
        "colab": {
          "base_uri": "https://localhost:8080/",
          "height": 830
        },
        "outputId": "f60e2319-3cde-4f8e-edfd-8bdb2769347d"
      },
      "source": [
        "%%sql\n",
        "\n",
        "-- View the entire dataset\n",
        "\n",
        "SELECT *\n",
        "FROM rentals "
      ],
      "execution_count": 4,
      "outputs": [
        {
          "output_type": "stream",
          "text": [
            " * postgresql+psycopg2://@/postgres\n"
          ],
          "name": "stdout"
        },
        {
          "output_type": "execute_result",
          "data": {
            "text/html": [
              "<div>\n",
              "<style scoped>\n",
              "    .dataframe tbody tr th:only-of-type {\n",
              "        vertical-align: middle;\n",
              "    }\n",
              "\n",
              "    .dataframe tbody tr th {\n",
              "        vertical-align: top;\n",
              "    }\n",
              "\n",
              "    .dataframe thead th {\n",
              "        text-align: right;\n",
              "    }\n",
              "</style>\n",
              "<table border=\"1\" class=\"dataframe\">\n",
              "  <thead>\n",
              "    <tr style=\"text-align: right;\">\n",
              "      <th></th>\n",
              "      <th>id</th>\n",
              "      <th>issue_date</th>\n",
              "      <th>status</th>\n",
              "      <th>location</th>\n",
              "      <th>short_term_rental_type</th>\n",
              "      <th>property_type</th>\n",
              "      <th>property_type_additional_description</th>\n",
              "      <th>condo_association</th>\n",
              "      <th>total_bedrooms</th>\n",
              "      <th>rented_bedrooms</th>\n",
              "      <th>maximum_renter_capacity</th>\n",
              "      <th>kitchen</th>\n",
              "      <th>bathrooms</th>\n",
              "      <th>all_rental_services</th>\n",
              "    </tr>\n",
              "  </thead>\n",
              "  <tbody>\n",
              "    <tr>\n",
              "      <th>0</th>\n",
              "      <td>13727</td>\n",
              "      <td>March 27 2018</td>\n",
              "      <td>Complete</td>\n",
              "      <td>65 Pearl St\\nCambridge, MA 02139\\n(42.363228, ...</td>\n",
              "      <td>This application is for an OPERATOR-OCCUPIED s...</td>\n",
              "      <td>Single-family detached dwelling</td>\n",
              "      <td>None</td>\n",
              "      <td>No</td>\n",
              "      <td>3</td>\n",
              "      <td>2</td>\n",
              "      <td>4</td>\n",
              "      <td>Yes</td>\n",
              "      <td>1</td>\n",
              "      <td>Airbnb, HomeAway</td>\n",
              "    </tr>\n",
              "    <tr>\n",
              "      <th>1</th>\n",
              "      <td>14766</td>\n",
              "      <td>April 26 2018</td>\n",
              "      <td>Complete</td>\n",
              "      <td>34 Essex St\\nCambridge, MA 02139\\n(42.366748, ...</td>\n",
              "      <td>This application is for an OWNER-ADJACENT shor...</td>\n",
              "      <td>Three-family structure</td>\n",
              "      <td>None</td>\n",
              "      <td>No</td>\n",
              "      <td>1</td>\n",
              "      <td>1</td>\n",
              "      <td>2</td>\n",
              "      <td>Yes</td>\n",
              "      <td>1</td>\n",
              "      <td>Airbnb</td>\n",
              "    </tr>\n",
              "    <tr>\n",
              "      <th>2</th>\n",
              "      <td>13941</td>\n",
              "      <td>January 13 2020</td>\n",
              "      <td>Complete</td>\n",
              "      <td>24 Corporal Mcternan St\\nCambridge, MA 02139\\n...</td>\n",
              "      <td>This application is for an OPERATOR-OCCUPIED s...</td>\n",
              "      <td>Other</td>\n",
              "      <td>Park View Cooperative is a 12 unit cooperative...</td>\n",
              "      <td>No</td>\n",
              "      <td>1</td>\n",
              "      <td>1</td>\n",
              "      <td>2</td>\n",
              "      <td>Yes</td>\n",
              "      <td>1</td>\n",
              "      <td>Airbnb</td>\n",
              "    </tr>\n",
              "    <tr>\n",
              "      <th>3</th>\n",
              "      <td>54029</td>\n",
              "      <td>November 27 2019</td>\n",
              "      <td>Complete</td>\n",
              "      <td>152 Berkshire St\\nCambridge, MA 02141\\n(42.372...</td>\n",
              "      <td>This application is for an OPERATOR-OCCUPIED s...</td>\n",
              "      <td>Other</td>\n",
              "      <td>The unit is one of approximately 30 units in t...</td>\n",
              "      <td>Yes</td>\n",
              "      <td>1</td>\n",
              "      <td>1</td>\n",
              "      <td>4</td>\n",
              "      <td>Yes</td>\n",
              "      <td>1</td>\n",
              "      <td>Airbnb, HomeAway, VRBO</td>\n",
              "    </tr>\n",
              "    <tr>\n",
              "      <th>4</th>\n",
              "      <td>46488</td>\n",
              "      <td>July 09 2019</td>\n",
              "      <td>Complete</td>\n",
              "      <td>26 Sacramento St\\nCambridge, MA 02138\\n(42.382...</td>\n",
              "      <td>This application is for an OPERATOR-OCCUPIED s...</td>\n",
              "      <td>Two-family dwelling</td>\n",
              "      <td>None</td>\n",
              "      <td>No</td>\n",
              "      <td>4</td>\n",
              "      <td>4</td>\n",
              "      <td>6</td>\n",
              "      <td>Yes</td>\n",
              "      <td>2</td>\n",
              "      <td>Airbnb</td>\n",
              "    </tr>\n",
              "    <tr>\n",
              "      <th>...</th>\n",
              "      <td>...</td>\n",
              "      <td>...</td>\n",
              "      <td>...</td>\n",
              "      <td>...</td>\n",
              "      <td>...</td>\n",
              "      <td>...</td>\n",
              "      <td>...</td>\n",
              "      <td>...</td>\n",
              "      <td>...</td>\n",
              "      <td>...</td>\n",
              "      <td>...</td>\n",
              "      <td>...</td>\n",
              "      <td>...</td>\n",
              "      <td>...</td>\n",
              "    </tr>\n",
              "    <tr>\n",
              "      <th>276</th>\n",
              "      <td>13856</td>\n",
              "      <td>April 05 2019</td>\n",
              "      <td>Complete</td>\n",
              "      <td>53 Ellery St\\nCambridge, MA 02138\\n(42.372064,...</td>\n",
              "      <td>This application is for an OPERATOR-OCCUPIED s...</td>\n",
              "      <td>Three-family structure</td>\n",
              "      <td>None</td>\n",
              "      <td>Yes</td>\n",
              "      <td>3</td>\n",
              "      <td>3</td>\n",
              "      <td>5</td>\n",
              "      <td>Yes</td>\n",
              "      <td>3</td>\n",
              "      <td>Airbnb</td>\n",
              "    </tr>\n",
              "    <tr>\n",
              "      <th>277</th>\n",
              "      <td>48801</td>\n",
              "      <td>January 16 2020</td>\n",
              "      <td>Complete</td>\n",
              "      <td>42 Bowdoin St\\nCambridge, MA 02138\\n(42.383883...</td>\n",
              "      <td>This application is for an OPERATOR-OCCUPIED s...</td>\n",
              "      <td>Two-family dwelling</td>\n",
              "      <td>None</td>\n",
              "      <td>Yes</td>\n",
              "      <td>5</td>\n",
              "      <td>2</td>\n",
              "      <td>4</td>\n",
              "      <td>Yes</td>\n",
              "      <td>1</td>\n",
              "      <td>Airbnb</td>\n",
              "    </tr>\n",
              "    <tr>\n",
              "      <th>278</th>\n",
              "      <td>31371</td>\n",
              "      <td>April 08 2019</td>\n",
              "      <td>Complete</td>\n",
              "      <td>184 Green St\\nCambridge, MA 02139\\n(42.363624,...</td>\n",
              "      <td>This application is for an OPERATOR-OCCUPIED s...</td>\n",
              "      <td>Three-family structure</td>\n",
              "      <td>None</td>\n",
              "      <td>Yes</td>\n",
              "      <td>3</td>\n",
              "      <td>3</td>\n",
              "      <td>6</td>\n",
              "      <td>Yes</td>\n",
              "      <td>1</td>\n",
              "      <td>Airbnb</td>\n",
              "    </tr>\n",
              "    <tr>\n",
              "      <th>279</th>\n",
              "      <td>44924</td>\n",
              "      <td>May 09 2019</td>\n",
              "      <td>Complete</td>\n",
              "      <td>100 Auburn St\\nCambridge, MA 02139\\n(42.362472...</td>\n",
              "      <td>This application is for an OPERATOR-OCCUPIED s...</td>\n",
              "      <td>Three-family structure</td>\n",
              "      <td>None</td>\n",
              "      <td>No</td>\n",
              "      <td>3</td>\n",
              "      <td>2</td>\n",
              "      <td>4</td>\n",
              "      <td>Yes</td>\n",
              "      <td>1</td>\n",
              "      <td>Airbnb</td>\n",
              "    </tr>\n",
              "    <tr>\n",
              "      <th>280</th>\n",
              "      <td>13922</td>\n",
              "      <td>May 16 2019</td>\n",
              "      <td>Complete</td>\n",
              "      <td>51 Avon Hill St\\nCambridge, MA 02138\\n(42.3848...</td>\n",
              "      <td>This application is for an OPERATOR-OCCUPIED s...</td>\n",
              "      <td>Single-family detached dwelling</td>\n",
              "      <td>None</td>\n",
              "      <td>No</td>\n",
              "      <td>7</td>\n",
              "      <td>1</td>\n",
              "      <td>2</td>\n",
              "      <td>No</td>\n",
              "      <td>1</td>\n",
              "      <td>Airbnb, HomeAway</td>\n",
              "    </tr>\n",
              "  </tbody>\n",
              "</table>\n",
              "<p>281 rows × 14 columns</p>\n",
              "</div>"
            ],
            "text/plain": [
              "        id        issue_date  ... bathrooms     all_rental_services\n",
              "0    13727     March 27 2018  ...         1        Airbnb, HomeAway\n",
              "1    14766     April 26 2018  ...         1                  Airbnb\n",
              "2    13941   January 13 2020  ...         1                  Airbnb\n",
              "3    54029  November 27 2019  ...         1  Airbnb, HomeAway, VRBO\n",
              "4    46488      July 09 2019  ...         2                  Airbnb\n",
              "..     ...               ...  ...       ...                     ...\n",
              "276  13856     April 05 2019  ...         3                  Airbnb\n",
              "277  48801   January 16 2020  ...         1                  Airbnb\n",
              "278  31371     April 08 2019  ...         1                  Airbnb\n",
              "279  44924       May 09 2019  ...         1                  Airbnb\n",
              "280  13922       May 16 2019  ...         1        Airbnb, HomeAway\n",
              "\n",
              "[281 rows x 14 columns]"
            ]
          },
          "metadata": {
            "tags": []
          },
          "execution_count": 4
        }
      ]
    },
    {
      "cell_type": "markdown",
      "metadata": {
        "colab_type": "text",
        "id": "XbU4t3Jla2Fe"
      },
      "source": [
        "A few of things that you should notice from what we've seen so far.\n",
        "\n",
        "1. **Looks like we have a date/time value `issue_date` that is stored as a `text` field rather than a date/time value.** This will likely cause unexpected results in our queries. For example:"
      ]
    },
    {
      "cell_type": "code",
      "metadata": {
        "id": "O6b-yRAWvgru",
        "colab_type": "code",
        "colab": {}
      },
      "source": [
        "%%sql\n",
        "\n",
        "-- Sort the dataset by issue_date\n",
        "\n",
        "SELECT *\n",
        "FROM rentals\n",
        "ORDER BY issue_date\n",
        "LIMIT 5  "
      ],
      "execution_count": 0,
      "outputs": []
    },
    {
      "cell_type": "markdown",
      "metadata": {
        "id": "wmneqkyov1NB",
        "colab_type": "text"
      },
      "source": [
        "What did you notice about the results?  \n",
        "\n",
        "Let's just confirm that the `issue_date` is indeed being sorted incorrectly by running the same query but sorting `DESCENDING` instead."
      ]
    },
    {
      "cell_type": "code",
      "metadata": {
        "id": "pNGqt4Q2wLa_",
        "colab_type": "code",
        "colab": {}
      },
      "source": [
        "%%sql\n",
        "\n",
        "-- Sort the dataset by issue_date\n",
        "\n",
        "SELECT *\n",
        "FROM rentals\n",
        "ORDER BY issue_date DESC\n",
        "LIMIT 5   "
      ],
      "execution_count": 0,
      "outputs": []
    },
    {
      "cell_type": "markdown",
      "metadata": {
        "colab_type": "text",
        "id": "jumvffzBZGhz"
      },
      "source": [
        "2. **The `all_rental_services` field contains a comma separated list of rental services.** This will mean will need to do some manipulation before doing any aggregation or analysis by rental service. \n",
        "\n",
        "3. **The `location` field contains all the address parts in a single column rather than individual fields like street address, city, state and postal code.** It also looks like there are lat/lon coordinates stored in this column as well which could become handy later if we want to visualize where the rentals are located across Cambridge.  For example:\n",
        "\n"
      ]
    },
    {
      "cell_type": "code",
      "metadata": {
        "colab_type": "code",
        "id": "hMC0CeNWYomI",
        "colab": {}
      },
      "source": [
        "%%sql\n",
        "\n",
        "-- Show the ID,  location and all_rental_services columns\n",
        "\n",
        "SELECT id, location, all_rental_services\n",
        "FROM rentals\n",
        "LIMIT 5   "
      ],
      "execution_count": 0,
      "outputs": []
    },
    {
      "cell_type": "markdown",
      "metadata": {
        "id": "f6fL0wIDw9r1",
        "colab_type": "text"
      },
      "source": [
        "## **Q&A**"
      ]
    },
    {
      "cell_type": "markdown",
      "metadata": {
        "id": "eYI0CGCbIXuK",
        "colab_type": "text"
      },
      "source": [
        "# **Getting our data analysis-ready**\n",
        "\n",
        "Looking more closely at the Short Term Rentals dataset, there are at least three adjustments that need to be made to the data before we can get some meaningful insights.\n",
        "\n",
        "_Data type problems:_\n",
        "\n",
        "- **Problem 1**: First, the `issue_date` column needs to be converted to a date/time value before we can look at timeseries data.\n",
        "\n",
        "- **Problem 2**: And finally, we'll need split the `all_rental_serivces` column so we can know who our competitors are in the city before we launch the pilot.\n",
        "\n",
        "<br>\n",
        "\n",
        "_Text/categorical data problems:_\n",
        "\n",
        "- **Problem 3**: Next, to get any aggregated insights about where in the city rental applications are most prevalent, we'll have to break apart the `location` column into it component address fields.\n",
        "\n",
        "- **Problem 4**: Looking at the rental services in our dataset there are several that only have a single listing and we'll want to combine all these services into a single `'other'` category.\n",
        "\n",
        "\n",
        "## **Our to do list:**\n",
        "\n",
        "_Data type problems:_\n",
        "\n",
        "- **Task 1**: Convert `issue_date` from `text` data type to `date`\n",
        "- **Task 2**: Split the `all_rental_services` values into individual services\n",
        "\n",
        "<br>\n",
        "\n",
        "_Text/categorical data problems:_\n",
        "\n",
        "- **Task 3**: Parse the `location` column into component address fields (i.e., zip code)\n",
        "- **Task 4**: Create an `'other'` category as a \"catch-all\" for outlier rental services\n",
        "\n",
        "<br>\n",
        "\n",
        "_Data range problems:_\n",
        "\n",
        "<br>\n",
        "\n",
        "_Dealing with missing data:_\n",
        "\n",
        "<br>\n",
        "\n",
        "_Is that all though?_\n"
      ]
    },
    {
      "cell_type": "markdown",
      "metadata": {
        "colab_type": "text",
        "id": "UjwoWqioocv5"
      },
      "source": [
        "## **Task 1: Converting data from one type to another using `CAST()`**"
      ]
    },
    {
      "cell_type": "markdown",
      "metadata": {
        "colab_type": "text",
        "id": "4eJhYVI9FSkp"
      },
      "source": [
        "Let's get started by converting the `issue_date` to a date value.  Looking at the data as it's currently stored in the database, it appears that the column stores the month, day and year that the rental certification was issue but it's stored as a `TEXT` data type. \n",
        "\n",
        "To convert columns from one data type to another in PostgreSQL, we can use the `CAST()` function as below here:\n",
        "\n",
        "``\n",
        "SELECT cast(column_name as new_type) \n",
        "FROM table;\n",
        "``\n",
        "\n",
        "Since `issue_date` does not contain time, we can convert it to DATE instead of TIMESTAMP."
      ]
    },
    {
      "cell_type": "code",
      "metadata": {
        "id": "EUR4YWFQxSp_",
        "colab_type": "code",
        "colab": {}
      },
      "source": [
        "%%sql\n",
        "\n",
        "-- Convert issue_date to a date\n",
        "\n",
        "SELECT id, cast(issue_date AS date)\n",
        "FROM rentals \n",
        "LIMIT 5\n"
      ],
      "execution_count": 0,
      "outputs": []
    },
    {
      "cell_type": "markdown",
      "metadata": {
        "id": "Mh-ebCEoINPr",
        "colab_type": "text"
      },
      "source": [
        "Now if we try to sort the dataset by the converted `issue_date` field, let's see if we get expected results."
      ]
    },
    {
      "cell_type": "code",
      "metadata": {
        "colab_type": "code",
        "id": "7-eAeLfwgwGg",
        "colab": {}
      },
      "source": [
        "%%sql\n",
        "\n",
        "-- Convert issue_date to a date and sort ascending\n",
        "\n",
        "SELECT id, cast(issue_date AS date)\n",
        "FROM rentals \n",
        "--ORDER BY cast(issue_date AS date)\n",
        "ORDER BY cast(issue_date AS date) DESC\n",
        "LIMIT 5\n"
      ],
      "execution_count": 0,
      "outputs": []
    },
    {
      "cell_type": "markdown",
      "metadata": {
        "id": "PtuDBcREmzDu",
        "colab_type": "text"
      },
      "source": [
        "## **Task 2: Extracting string data using `SUBSTRING()` and `POSITION()`**"
      ]
    },
    {
      "cell_type": "markdown",
      "metadata": {
        "id": "qL6fOCK520zz",
        "colab_type": "text"
      },
      "source": [
        "Great work!  Now let's see what we can do with the `location` field.  Ideally, we would have columns for each address part including street address, postal code, etc. In order to do this we'll need to parse the `location` field into these parts. \n",
        "\n",
        "To divide strings (or extract substrings) in PostgreSQL, we can use `SUBSTRING`(column_name, substring_start_position, substring_end_position)` where:\n",
        "\n",
        "> `column_name` is the name of the column being processed\n",
        "<br> `substring_start_position` is the numbered position of the first string of the substring being extracted.\n",
        "<br> `substring_end_position` is the numbered position of the substring of the last string of the substring being extracted.\n",
        "\n",
        "A common value from the location column has the format:\n",
        "\n",
        "> `street_address \\n city_state_zip \\n lat_long`\n",
        "<br> <br>For example: `65 Pearl St\\nCambridge, MA 02139\\n(42.363228, 42.36322)`\n",
        "\n",
        "To divide `location` into substrings, will divide it based on the position of the break-line character `\\n` by using the `POSITION(character IN column_name)` function which finds the numbered position of a character in a string column, as well as the `chr(10)` function which returns `\\n`."
      ]
    },
    {
      "cell_type": "code",
      "metadata": {
        "colab_type": "code",
        "id": "DA48iA2ekln0",
        "colab": {}
      },
      "source": [
        "%%sql\n",
        "\n",
        "-- Use substring() and position() functions to parse the location into various address values\n",
        "\n",
        "SELECT substring(location, 0, position(chr(10) IN location)) AS street_address,\n",
        "       substring(location, position(chr(10) IN location)+1, 19) AS city_state_zip,\n",
        "       substring(location, position('(' IN location), position(')' IN location)) AS lat_lon\n",
        "FROM rentals\n",
        "LIMIT 5;\n"
      ],
      "execution_count": 0,
      "outputs": []
    },
    {
      "cell_type": "code",
      "metadata": {
        "id": "nHPLR7zdOz6Z",
        "colab_type": "code",
        "colab": {}
      },
      "source": [
        ""
      ],
      "execution_count": 0,
      "outputs": []
    },
    {
      "cell_type": "markdown",
      "metadata": {
        "colab_type": "text",
        "id": "U_SEQo1unakM"
      },
      "source": [
        "## **Extracting string data using `split_part()`**"
      ]
    },
    {
      "cell_type": "markdown",
      "metadata": {
        "id": "Etr-f03ZGbyg",
        "colab_type": "text"
      },
      "source": [
        "The `split_part()` function parses string data based on a specified delimiter into an `ARRAY` and allows access to each array index by specifying the index value as a parameter in the function.  The query above can be rewritten using the `split_part()` function which as you'll see actually simplifies the query.\n",
        "\n",
        "![split_part graphic](https://user-images.githubusercontent.com/48436758/83009911-c3ecf600-a017-11ea-81c6-2ae5b179fcc1.png)\n"
      ]
    },
    {
      "cell_type": "code",
      "metadata": {
        "colab_type": "code",
        "id": "4Y9BTRakiD00",
        "colab": {}
      },
      "source": [
        "%%sql\n",
        "\n",
        "-- Use split_part() to parse the location into various address values\n",
        "\n",
        "SELECT split_part(location, chr(10), 1) AS street_address, \n",
        "       split_part(location, chr(10), 2) AS city_state_zip, \n",
        "       split_part(location,chr(10), 3) AS lat_lon\n",
        "FROM rentals\n",
        "LIMIT 5;\n"
      ],
      "execution_count": 0,
      "outputs": []
    },
    {
      "cell_type": "markdown",
      "metadata": {
        "id": "kqv9IrhpwVUf",
        "colab_type": "text"
      },
      "source": [
        "## **Using `ARRAYS` to manipulate strings stored as comma-separated-values**"
      ]
    },
    {
      "cell_type": "code",
      "metadata": {
        "colab_type": "code",
        "id": "tB4-bao_xBL9",
        "colab": {}
      },
      "source": [
        "%%sql\n",
        "\n",
        "-- Use string_to_array() to convert the all_rental_services from a comma-separated-list to an array\n",
        "\n",
        "SELECT id, string_to_array(all_rental_services,',')\n",
        "FROM rentals\n",
        "LIMIT 5;\n"
      ],
      "execution_count": 0,
      "outputs": []
    },
    {
      "cell_type": "markdown",
      "metadata": {
        "id": "B0c9u-XB7V_6",
        "colab_type": "text"
      },
      "source": [
        "Now let's look closer at the result.  The comma-separated-list has been split into an `ARRAY` for each rental.  However, it appears that doing this produces `ARRAYS` with variable lenght which are going to be hard to work with later as we begin our analysis.\n",
        "\n",
        "Ideally, we'd be able to have an indicator for each service to determine whether a rental was using that service.  Let's see if we can figure out how many service sare stored in the `all_rental_services` field.\n",
        "\n",
        "PostgreSQL has a function called `unnest()` that will take an array and create unique rows for each index. Let's see what happens when we use the `unnest()` function on the result of `string_to_array()` for the first rental id 13727."
      ]
    },
    {
      "cell_type": "code",
      "metadata": {
        "colab_type": "code",
        "id": "kjh7KZzt7NxI",
        "colab": {}
      },
      "source": [
        "%%sql\n",
        "\n",
        "-- Nest the string_to_array() function in unnest() to transpose the array into multiple unique rows.\n",
        "\n",
        "SELECT id, unnest(string_to_array(all_rental_services,','))\n",
        "FROM rentals\n",
        "WHERE id = 13727;\n"
      ],
      "execution_count": 0,
      "outputs": []
    },
    {
      "cell_type": "markdown",
      "metadata": {
        "id": "X-afaT9O8sDR",
        "colab_type": "text"
      },
      "source": [
        "The result of the `unnest()` function ened up creating two rows - one for Airbnb and one for HomeAway - both with id 13727.\n",
        "\n",
        "Now we can get use these new skills to determine how many rentals are registered for each service by nesting the query above as a subquery and performing an aggregation to `COUNT()` the number of rental ids for each service. "
      ]
    },
    {
      "cell_type": "code",
      "metadata": {
        "colab_type": "code",
        "id": "7K1VEYrqxozk",
        "colab": {}
      },
      "source": [
        "%%sql\n",
        "\n",
        "-- Use the results from the unnest() function in the query\n",
        "\n",
        "--SELECT count(id), services\n",
        "SELECT count(id), trim(services)\n",
        "FROM\n",
        "(\n",
        "    SELECT id, unnest(string_to_array(all_rental_services,','))\n",
        "    FROM rentals\n",
        " ) as dt(id, services) \n",
        "-- GROUP BY services\n",
        "GROUP BY trim(services)\n",
        "ORDER BY count(id) DESC;\n",
        "       \n"
      ],
      "execution_count": 0,
      "outputs": []
    },
    {
      "cell_type": "markdown",
      "metadata": {
        "colab_type": "text",
        "id": "bIJmQUDhhMF6"
      },
      "source": [
        "## **What Have We Learned About the Short Term Rentals Data?**\n",
        "\n",
        "So far, we have discovered:\n",
        "\n",
        "*   There rentals dataset contains data from March, 2018 through April, 2020.\n",
        "*   The short term rentals market has about 22 different services.\n",
        "\n",
        "\n",
        "\n"
      ]
    },
    {
      "cell_type": "markdown",
      "metadata": {
        "colab_type": "text",
        "id": "kdTzqzSqhMF9"
      },
      "source": [
        "## **Q&A**"
      ]
    },
    {
      "cell_type": "markdown",
      "metadata": {
        "id": "zaIJ3agAQKFW",
        "colab_type": "text"
      },
      "source": [
        "# **Techniques for query simplification and code reuse**"
      ]
    },
    {
      "cell_type": "markdown",
      "metadata": {
        "id": "A3v03h7mHz1k",
        "colab_type": "text"
      },
      "source": [
        "Sometimes when you encounter data that needs to be transformed or manipulated before being usable in queries, you may decide that creating a temporary table or user-defined function with the result of your data manipulation will simplify your data analysis queries or allow for code reuse in multiple queries. \n",
        "\n",
        "Let's explore some techniques by first looking at how to use temporary tables"
      ]
    },
    {
      "cell_type": "markdown",
      "metadata": {
        "id": "eoUdwC6JD8w5",
        "colab_type": "text"
      },
      "source": [
        "## **Creating a temporary table with our rental services data**"
      ]
    },
    {
      "cell_type": "markdown",
      "metadata": {
        "colab_type": "text",
        "id": "jA1lhhgtUOXr"
      },
      "source": [
        "A temporary table in PostgeSQL is equivalent to a permanent disk-based table created in a database but only exists during the duration of the database session. PostgreSQL will automatically drop the table at the end of the session or \n",
        "\n",
        ">`CREATE TEMP[ORARY] TABLE temp_table(\n",
        "   ...\n",
        ");`"
      ]
    },
    {
      "cell_type": "code",
      "metadata": {
        "colab_type": "code",
        "id": "M3sXy94QAC3J",
        "colab": {
          "base_uri": "https://localhost:8080/",
          "height": 221
        },
        "outputId": "d94e8cb0-198c-4fd9-8bee-2e0f0de14ca7"
      },
      "source": [
        "%%sql\n",
        "DROP TABLE IF EXISTS rental_services;\n",
        "-- Convert issue_date to a date and sort ascending\n",
        "CREATE TEMP TABLE rental_services AS\n",
        "  SELECT id, unnest(string_to_array(all_rental_services,',')) AS service\n",
        "  FROM rentals;\n",
        "SELECT *\n",
        "FROM rental_services\n",
        "LIMIT 5;\n",
        "       \n"
      ],
      "execution_count": 5,
      "outputs": [
        {
          "output_type": "stream",
          "text": [
            " * postgresql+psycopg2://@/postgres\n"
          ],
          "name": "stdout"
        },
        {
          "output_type": "execute_result",
          "data": {
            "text/html": [
              "<div>\n",
              "<style scoped>\n",
              "    .dataframe tbody tr th:only-of-type {\n",
              "        vertical-align: middle;\n",
              "    }\n",
              "\n",
              "    .dataframe tbody tr th {\n",
              "        vertical-align: top;\n",
              "    }\n",
              "\n",
              "    .dataframe thead th {\n",
              "        text-align: right;\n",
              "    }\n",
              "</style>\n",
              "<table border=\"1\" class=\"dataframe\">\n",
              "  <thead>\n",
              "    <tr style=\"text-align: right;\">\n",
              "      <th></th>\n",
              "      <th>id</th>\n",
              "      <th>service</th>\n",
              "    </tr>\n",
              "  </thead>\n",
              "  <tbody>\n",
              "    <tr>\n",
              "      <th>0</th>\n",
              "      <td>13727</td>\n",
              "      <td>Airbnb</td>\n",
              "    </tr>\n",
              "    <tr>\n",
              "      <th>1</th>\n",
              "      <td>13727</td>\n",
              "      <td>HomeAway</td>\n",
              "    </tr>\n",
              "    <tr>\n",
              "      <th>2</th>\n",
              "      <td>14766</td>\n",
              "      <td>Airbnb</td>\n",
              "    </tr>\n",
              "    <tr>\n",
              "      <th>3</th>\n",
              "      <td>13941</td>\n",
              "      <td>Airbnb</td>\n",
              "    </tr>\n",
              "    <tr>\n",
              "      <th>4</th>\n",
              "      <td>54029</td>\n",
              "      <td>Airbnb</td>\n",
              "    </tr>\n",
              "  </tbody>\n",
              "</table>\n",
              "</div>"
            ],
            "text/plain": [
              "      id    service\n",
              "0  13727     Airbnb\n",
              "1  13727   HomeAway\n",
              "2  14766     Airbnb\n",
              "3  13941     Airbnb\n",
              "4  54029     Airbnb"
            ]
          },
          "metadata": {
            "tags": []
          },
          "execution_count": 5
        }
      ]
    },
    {
      "cell_type": "code",
      "metadata": {
        "colab_type": "code",
        "id": "-TB7mbbFBkMk",
        "colab": {
          "base_uri": "https://localhost:8080/",
          "height": 221
        },
        "outputId": "cbc2cee2-a9f6-4408-f9c5-feb178d7aeed"
      },
      "source": [
        "%%sql\n",
        "DROP TABLE IF EXISTS address;\n",
        "-- Convert issue_date to a date and sort ascending\n",
        "CREATE TEMP TABLE address AS\n",
        "  SELECT id, split_part(location, chr(10), 1) AS street_address, \n",
        "       right(split_part(location, chr(10), 2), 5) AS zip, \n",
        "       split_part(location,chr(10), 3) AS lat_lon\n",
        "  FROM rentals;\n",
        "SELECT *\n",
        "FROM address\n",
        "LIMIT 5;\n"
      ],
      "execution_count": 6,
      "outputs": [
        {
          "output_type": "stream",
          "text": [
            " * postgresql+psycopg2://@/postgres\n"
          ],
          "name": "stdout"
        },
        {
          "output_type": "execute_result",
          "data": {
            "text/html": [
              "<div>\n",
              "<style scoped>\n",
              "    .dataframe tbody tr th:only-of-type {\n",
              "        vertical-align: middle;\n",
              "    }\n",
              "\n",
              "    .dataframe tbody tr th {\n",
              "        vertical-align: top;\n",
              "    }\n",
              "\n",
              "    .dataframe thead th {\n",
              "        text-align: right;\n",
              "    }\n",
              "</style>\n",
              "<table border=\"1\" class=\"dataframe\">\n",
              "  <thead>\n",
              "    <tr style=\"text-align: right;\">\n",
              "      <th></th>\n",
              "      <th>id</th>\n",
              "      <th>street_address</th>\n",
              "      <th>zip</th>\n",
              "      <th>lat_lon</th>\n",
              "    </tr>\n",
              "  </thead>\n",
              "  <tbody>\n",
              "    <tr>\n",
              "      <th>0</th>\n",
              "      <td>13727</td>\n",
              "      <td>65 Pearl St</td>\n",
              "      <td>02139</td>\n",
              "      <td>(42.363228, -71.104202)</td>\n",
              "    </tr>\n",
              "    <tr>\n",
              "      <th>1</th>\n",
              "      <td>14766</td>\n",
              "      <td>34 Essex St</td>\n",
              "      <td>02139</td>\n",
              "      <td>(42.366748, -71.101654)</td>\n",
              "    </tr>\n",
              "    <tr>\n",
              "      <th>2</th>\n",
              "      <td>13941</td>\n",
              "      <td>24 Corporal Mcternan St</td>\n",
              "      <td>02139</td>\n",
              "      <td>(42.361299, -71.108347)</td>\n",
              "    </tr>\n",
              "    <tr>\n",
              "      <th>3</th>\n",
              "      <td>54029</td>\n",
              "      <td>152 Berkshire St</td>\n",
              "      <td>02141</td>\n",
              "      <td>(42.372124, -71.089837)</td>\n",
              "    </tr>\n",
              "    <tr>\n",
              "      <th>4</th>\n",
              "      <td>46488</td>\n",
              "      <td>26 Sacramento St</td>\n",
              "      <td>02138</td>\n",
              "      <td>(42.382554, -71.117114)</td>\n",
              "    </tr>\n",
              "  </tbody>\n",
              "</table>\n",
              "</div>"
            ],
            "text/plain": [
              "      id           street_address    zip                  lat_lon\n",
              "0  13727              65 Pearl St  02139  (42.363228, -71.104202)\n",
              "1  14766              34 Essex St  02139  (42.366748, -71.101654)\n",
              "2  13941  24 Corporal Mcternan St  02139  (42.361299, -71.108347)\n",
              "3  54029         152 Berkshire St  02141  (42.372124, -71.089837)\n",
              "4  46488         26 Sacramento St  02138  (42.382554, -71.117114)"
            ]
          },
          "metadata": {
            "tags": []
          },
          "execution_count": 6
        }
      ]
    },
    {
      "cell_type": "markdown",
      "metadata": {
        "id": "z0kAStjhD2aK",
        "colab_type": "text"
      },
      "source": [
        "## **Using temporary tables to simplify complex queries**"
      ]
    },
    {
      "cell_type": "markdown",
      "metadata": {
        "id": "zWo0dHiyIY04",
        "colab_type": "text"
      },
      "source": [
        "Once the temporary tables are created, your queries become much simpler and easier to manage, and you have the ability to run multiple queries against the temporary table which streamlines reuse.\n",
        "\n",
        "We will use an `INNER JOIN` to combine the results from the newly created temporary tables `address` and `rental_services`.  As a review, an `INNER JOIN` will return rows that are in both table A and table B as highlighted in the image below. \n",
        "\n",
        "![sql joins](https://user-images.githubusercontent.com/48436758/83012005-1b409580-a01b-11ea-99b8-7bb73a822fb7.png)\n",
        "\n",
        "For example:\n",
        "\n",
        "> SELECT table_1_alias.* , table_2_alias.*<br> \n",
        "FROM table_1 AS table_1_alias INNER JOIN table_2 AS table_2_alias \n",
        "ON table_1_alias.common_column = table_2_alias.common_column;"
      ]
    },
    {
      "cell_type": "code",
      "metadata": {
        "colab_type": "code",
        "id": "NYRyIe8EDjgH",
        "colab": {}
      },
      "source": [
        "%%sql\n",
        "SELECT a.*, s.*\n",
        "FROM address AS a INNER JOIN rental_services AS s ON a.id=s.id;"
      ],
      "execution_count": 0,
      "outputs": []
    },
    {
      "cell_type": "code",
      "metadata": {
        "colab_type": "code",
        "id": "TWXpN4OeEExe",
        "colab": {}
      },
      "source": [
        "%%sql\n",
        "SELECT a.zip, s.service, count(a.id) as total\n",
        "FROM address AS a INNER JOIN rental_services AS s ON a.id=s.id\n",
        "GROUP BY a.zip, s.service\n",
        "ORDER BY zip, service;"
      ],
      "execution_count": 0,
      "outputs": []
    },
    {
      "cell_type": "markdown",
      "metadata": {
        "id": "ktwpAQzwENwh",
        "colab_type": "text"
      },
      "source": [
        "## **User-defined functions to create reusable code**"
      ]
    },
    {
      "cell_type": "markdown",
      "metadata": {
        "id": "vqjuJJieRoYC",
        "colab_type": "text"
      },
      "source": [
        "A user-defined function is the PostgeSQL equivalent of a stored procedure where you can bundle several SQL queries and statements together into a single package using the `CREATE FUNCTION` command. \n",
        "\n",
        ">`CREATE [OR REPLACE] FUNCTION function_name(p1 type, p2 type)`<br>\n",
        "`RETURNS type AS $$`<br>\n",
        "`BEGIN`<br>\n",
        "`-- logic`<br>\n",
        "`END;`<br>\n",
        "`$$ LANGUAGE language_name;`"
      ]
    },
    {
      "cell_type": "code",
      "metadata": {
        "colab_type": "code",
        "id": "fwp8mi3M7K1X",
        "colab": {}
      },
      "source": [
        "%%sql\n",
        "CREATE OR REPLACE FUNCTION getZipCode (rentalID int)\n",
        "RETURNS varchar(5) AS $$\n",
        "DECLARE zip varchar(5);\n",
        "BEGIN\n",
        "  SELECT right(split_part(location, chr(10), 2), 5) INTO zip\n",
        "  FROM rentals\n",
        "  WHERE id = rentalID;\n",
        "\n",
        "  RETURN zip;\n",
        "END;\n",
        "$$ LANGUAGE plpgsql;\n",
        "\n",
        "SELECT id, location, getZipCode(id) \n",
        "FROM rentals;\n"
      ],
      "execution_count": 0,
      "outputs": []
    },
    {
      "cell_type": "markdown",
      "metadata": {
        "id": "W9FtJ3YREt0R",
        "colab_type": "text"
      },
      "source": [
        "# **Case study: Analyzing competitors and the best locations for short term rentals**"
      ]
    },
    {
      "cell_type": "markdown",
      "metadata": {
        "id": "iGP--CR7IrNc",
        "colab_type": "text"
      },
      "source": [
        "Let's now use our new data manipulation skills to dig deeper into the short term rentals data to determine if Cambridge, MA is a good spot to pilot our new short term rentals app.\n",
        "\n",
        "First, we'll see what the growth rate has been over the past couple of years with registrations.\n",
        "\n",
        "Next we'll see what the most popular rental services are in the town.\n",
        "\n",
        "And finally we'll take a look at which zip codes in the city have the largest number of rental units.  \n",
        "\n",
        "Let's get started."
      ]
    },
    {
      "cell_type": "code",
      "metadata": {
        "id": "F0F_l84hIrmY",
        "colab_type": "code",
        "colab": {}
      },
      "source": [
        "%%sql\n",
        "SELECT extract(year FROM CAST(issue_date AS DATE)) AS year, count(id) \n",
        "FROM rentals\n",
        "GROUP BY year\n",
        "ORDER BY year;"
      ],
      "execution_count": 0,
      "outputs": []
    },
    {
      "cell_type": "code",
      "metadata": {
        "colab_type": "code",
        "id": "xEO7QSYp-P_X",
        "colab": {}
      },
      "source": [
        "%%sql\n",
        "SELECT CASE WHEN trim(service) IN('Airbnb', 'HomeAway', 'VRBO', 'FlipKey', \n",
        "                                  'Craigslist', 'Boston_Rentals', 'Couch_Surfing') \n",
        "       THEN trim(service) ELSE 'Other' END as rentalService,\n",
        "      count(r.id) as total\n",
        "FROM rentals AS r INNER JOIN rental_services AS s ON r.id=s.id\n",
        "GROUP BY rentalService\n",
        "ORDER BY total DESC;\n"
      ],
      "execution_count": 0,
      "outputs": []
    },
    {
      "cell_type": "code",
      "metadata": {
        "colab_type": "code",
        "id": "i8zs4-TD-217",
        "colab": {}
      },
      "source": [
        "%%sql\n",
        "SELECT getZipCode(r.id) AS zipCode, count(r.id) as total\n",
        "FROM rentals AS r INNER JOIN rental_services AS s ON r.id=s.id\n",
        "GROUP BY zipCode\n",
        "ORDER BY zipCode;\n"
      ],
      "execution_count": 0,
      "outputs": []
    },
    {
      "cell_type": "markdown",
      "metadata": {
        "id": "ZtpLcVbfE9wv",
        "colab_type": "text"
      },
      "source": [
        "# **Q&A**"
      ]
    },
    {
      "cell_type": "markdown",
      "metadata": {
        "id": "sC8aaMahE3Lq",
        "colab_type": "text"
      },
      "source": [
        "# **Recap and Closing**"
      ]
    },
    {
      "cell_type": "markdown",
      "metadata": {
        "id": "uHe-84ETFFxf",
        "colab_type": "text"
      },
      "source": [
        "Thank you!"
      ]
    }
  ]
}