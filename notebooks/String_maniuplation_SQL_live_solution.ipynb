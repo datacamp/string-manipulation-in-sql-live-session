{
  "nbformat": 4,
  "nbformat_minor": 0,
  "metadata": {
    "colab": {
      "name": "String_maniuplation_SQL_live_solution.ipynb",
      "provenance": [],
      "collapsed_sections": [
        "agoSpqYunxZ1"
      ]
    },
    "kernelspec": {
      "name": "python3",
      "display_name": "Python 3"
    }
  },
  "cells": [
    {
      "cell_type": "markdown",
      "metadata": {
        "id": "tnjoHnXBnlof",
        "colab_type": "text"
      },
      "source": [
        "<p align=\"center\">\n",
        "<img src=\"https://github.com/datacamp/string-manipulation-in-sql-live-session/blob/master/assets/datacamp.svg?raw=True\" alt = \"DataCamp icon\" width=\"50%\">\n",
        "</p>\n",
        "<br><br>\n",
        "\n",
        "## **PostgreSQL Live Training Template**\n",
        "\n",
        "Welcome to the DataCamp \"String Manipulation in SQL\", where we will be covering a deep dive into a variety of techiques you can use to manipulate sting data in your SQL queries. Through a hands on coding session you will learn how to use built-in functions [...] to answer our real world business questions.\n",
        "\n",
        "In today's notebook, you will learn:\n",
        "\n",
        "- Explore a dataset in a SQL database by examining table structure and data types\n",
        "- Converting or casting common data types\n",
        "- How to manipulate string data using built-in string and character functions\n",
        "- Create temporary tables and use them to simplify complex queries\n",
        "- Learn how to use temporary tables to create new fields from unstructured string data\n",
        "- Create user defined functions that can be used to simplify data manipulation tasks\n",
        "\n",
        "## **The Dataset**\n",
        "\n",
        "This data is taken from a .csv file called \"short_term_rentals\". As today's session will focus on creating queries. It contains the following columns.\n",
        "\n",
        "- `id`: Unique identifier for rental ID\n",
        "- `issue_date`: Date of Issue for the Short Term Rental certificate\n",
        "- `status`: Application status.\n",
        "- `location`: Rental Location\n",
        "- `property_type`: Description of the building property type.\n",
        "- `property_type_additional_description`: Additional building property type information.\n",
        "- `condo_association`: Is the Short-Term Rental Unit part of a condominium association?\n",
        "- `total_bedrooms`: Total number of legal bedrooms in the short-term rental unit\n",
        "- `rented_bedrooms`: Number of legal bedrooms to be rented as part of this application.\n",
        "- `maximum_renter_capacity`: Maximum number of people to which the short term rental will be rented.\n",
        "- `kitchen`: Will the kitchen be available to the renter?\n",
        "- `bathrooms`: Number of bathrooms available to the renter.\n",
        "- `all_rental_services`: A single column list of all rental services used by this property.\n",
        "\n"
      ]
    },
    {
      "cell_type": "markdown",
      "metadata": {
        "id": "agoSpqYunxZ1",
        "colab_type": "text"
      },
      "source": [
        "## **Setting up PostgreSQL**"
      ]
    },
    {
      "cell_type": "code",
      "metadata": {
        "id": "WZ-Rqu2yoCzR",
        "colab_type": "code",
        "colab": {}
      },
      "source": [
        "#@title **This block of code will install PosgreSQL**\n",
        "%%capture\n",
        "!wget -qO- https://www.postgresql.org/media/keys/ACCC4CF8.asc | apt-key add -\n",
        "!echo \"deb http://apt.postgresql.org/pub/repos/apt/ bionic-pgdg main\" >/etc/apt/sources.list.d/pgdg.list\n",
        "!apt -qq update\n",
        "!apt -yq install postgresql-12 postgresql-client-12\n",
        "!service postgresql start\n",
        "# make calling psql shorter\n",
        "!sudo -u postgres psql -c \"CREATE USER root WITH SUPERUSER\"  \n",
        "!psql postgres -c \"CREATE DATABASE root\"  # now just !psql -c \"...\"\n",
        "# load SQL extensions\n",
        "%load_ext sql\n",
        "%config SqlMagic.feedback=False \n",
        "%config SqlMagic.autopandas=True\n",
        "%sql postgresql+psycopg2://@/postgres"
      ],
      "execution_count": 0,
      "outputs": []
    },
    {
      "cell_type": "code",
      "metadata": {
        "id": "5spm-fLTn7oP",
        "colab_type": "code",
        "colab": {}
      },
      "source": [
        "#@title **This will download your data to local environment**\n",
        "!wget -q https://raw.githubusercontent.com/datacamp/string-manipulation-in-sql-live-session/master/data/short_term_rentals.csv"
      ],
      "execution_count": 0,
      "outputs": []
    },
    {
      "cell_type": "code",
      "metadata": {
        "id": "4fiq0KKsokAX",
        "colab_type": "code",
        "outputId": "65fd958f-5e10-4a49-c62b-be61a117ae82",
        "colab": {
          "base_uri": "https://localhost:8080/",
          "height": 49
        }
      },
      "source": [
        "#@title **This will create your table**\n",
        "%%sql\n",
        "-- Make sure to amend you table name, column names and types\n",
        "DROP TABLE IF EXISTS rentals;\n",
        "CREATE TABLE rentals(\n",
        " id int primary key,\n",
        " issue_date text,\n",
        " status text,\n",
        " location text,\n",
        " short_term_rental_type text,\n",
        " property_type text,\n",
        " property_type_additional_description text,\n",
        " condo_association text,\n",
        " total_bedrooms numeric,\n",
        " rented_bedrooms numeric,\n",
        " maximum_renter_capacity numeric,\n",
        " kitchen text,\n",
        " bathrooms numeric,\n",
        " all_rental_services text\n",
        ");\n",
        "COPY rentals\n",
        "-- Make sure to point to correct file and delimiter \n",
        "FROM '/content/short_term_rentals.csv' DELIMITER ',' CSV HEADER;"
      ],
      "execution_count": 4,
      "outputs": [
        {
          "output_type": "stream",
          "text": [
            " * postgresql+psycopg2://@/postgres\n"
          ],
          "name": "stdout"
        },
        {
          "output_type": "execute_result",
          "data": {
            "text/html": [
              "<div>\n",
              "<style scoped>\n",
              "    .dataframe tbody tr th:only-of-type {\n",
              "        vertical-align: middle;\n",
              "    }\n",
              "\n",
              "    .dataframe tbody tr th {\n",
              "        vertical-align: top;\n",
              "    }\n",
              "\n",
              "    .dataframe thead th {\n",
              "        text-align: right;\n",
              "    }\n",
              "</style>\n",
              "<table border=\"1\" class=\"dataframe\">\n",
              "  <thead>\n",
              "    <tr style=\"text-align: right;\">\n",
              "      <th></th>\n",
              "    </tr>\n",
              "  </thead>\n",
              "  <tbody>\n",
              "  </tbody>\n",
              "</table>\n",
              "</div>"
            ],
            "text/plain": [
              "Empty DataFrame\n",
              "Columns: []\n",
              "Index: []"
            ]
          },
          "metadata": {
            "tags": []
          },
          "execution_count": 4
        }
      ]
    },
    {
      "cell_type": "code",
      "metadata": {
        "id": "KpFHkiwIo8KW",
        "colab_type": "code",
        "colab": {}
      },
      "source": [
        "%%sql\n",
        "-- SELECT first 10 rows\n",
        "\n",
        "SELECT * \n",
        "FROM rentals\n",
        "LIMIT 10;"
      ],
      "execution_count": 0,
      "outputs": []
    },
    {
      "cell_type": "markdown",
      "metadata": {
        "id": "cr7faFg5HfaT",
        "colab_type": "text"
      },
      "source": [
        "# **Exploring the Dataset**"
      ]
    },
    {
      "cell_type": "markdown",
      "metadata": {
        "id": "TCL0h4vzvW72",
        "colab_type": "text"
      },
      "source": [
        "Now that we have PostgreSQL installed and our dataset loaded, let's take a closer look at the data that we'll be working with. "
      ]
    },
    {
      "cell_type": "code",
      "metadata": {
        "id": "U-7SSn2DvKkZ",
        "colab_type": "code",
        "colab": {}
      },
      "source": [
        "%%sql\n",
        "\n",
        "-- View the entire dataset\n",
        "\n",
        "SELECT *\n",
        "FROM rentals "
      ],
      "execution_count": 0,
      "outputs": []
    },
    {
      "cell_type": "markdown",
      "metadata": {
        "colab_type": "text",
        "id": "XbU4t3Jla2Fe"
      },
      "source": [
        "A few of things that you should notice from what we've seen so far.\n",
        "\n",
        "1. **The dataset is much smaller than you would have expected with only 281 rows.** Let's think about this a bit. Do we believe it is correct?\n",
        "\n",
        "\n",
        "2. **Looks like we have a date/time value `issue_date` that is stored as a `text` field rather than a date/time value.** This will likely cause unexpected results in our queries. For example:"
      ]
    },
    {
      "cell_type": "code",
      "metadata": {
        "id": "O6b-yRAWvgru",
        "colab_type": "code",
        "colab": {}
      },
      "source": [
        "%%sql\n",
        "\n",
        "-- Sort the dataset by issue_date\n",
        "\n",
        "SELECT *\n",
        "FROM rentals\n",
        "ORDER BY issue_date\n",
        "LIMIT 5  "
      ],
      "execution_count": 0,
      "outputs": []
    },
    {
      "cell_type": "markdown",
      "metadata": {
        "id": "wmneqkyov1NB",
        "colab_type": "text"
      },
      "source": [
        "What did you notice about the results?  \n",
        "\n",
        "Let's just confirm that the `issue_date` is indeed being sorted incorrectly by running the same query but sorting `DESCENDING` instead."
      ]
    },
    {
      "cell_type": "code",
      "metadata": {
        "id": "pNGqt4Q2wLa_",
        "colab_type": "code",
        "colab": {}
      },
      "source": [
        "%%sql\n",
        "\n",
        "-- Sort the dataset by issue_date\n",
        "\n",
        "SELECT *\n",
        "FROM rentals\n",
        "ORDER BY issue_date DESC\n",
        "LIMIT 5   "
      ],
      "execution_count": 0,
      "outputs": []
    },
    {
      "cell_type": "markdown",
      "metadata": {
        "colab_type": "text",
        "id": "jumvffzBZGhz"
      },
      "source": [
        "3. **The `all_rental_services` field contains a comma separated list of rental services.** This will mean will need to do some manipulation before doing any aggregation or analysis by rental service. \n",
        "\n",
        "4. **The `location` field contains all the address parts in a single column rather than individual fields like street address, city, state and postal code.** It also looks like there are lat/lon coordinates stored in this column as well which could become handy later if we want to visualize where the rentals are located across Cambridge.  For example:\n",
        "\n"
      ]
    },
    {
      "cell_type": "code",
      "metadata": {
        "colab_type": "code",
        "id": "hMC0CeNWYomI",
        "colab": {}
      },
      "source": [
        "%%sql\n",
        "\n",
        "-- Show the ID,  location and all_rental_services columns\n",
        "\n",
        "SELECT id, location, all_rental_services\n",
        "FROM rentals\n",
        "LIMIT 5   "
      ],
      "execution_count": 0,
      "outputs": []
    },
    {
      "cell_type": "markdown",
      "metadata": {
        "id": "GrfWVeD_Mbe0",
        "colab_type": "text"
      },
      "source": [
        "## **What Have We Learned About the Short Term Rentals Data?**\n",
        "\n",
        "So far, we have discovered:\n",
        "\n",
        "*   There are 218 rentals in the dataset\n",
        "*   The fields `issue_date`, `location` and `all_rental_services` will need to be converted or manipulated before we can get additional insights\n",
        "\n",
        "\n",
        "\n"
      ]
    },
    {
      "cell_type": "markdown",
      "metadata": {
        "id": "f6fL0wIDw9r1",
        "colab_type": "text"
      },
      "source": [
        "## **Q&A**"
      ]
    },
    {
      "cell_type": "markdown",
      "metadata": {
        "id": "ANSpMBh-LiL2",
        "colab_type": "text"
      },
      "source": [
        "# **Using built-in functions to manipulate string and character data**\n",
        "\n",
        "Looking more closely at the Short Term Rentals dataset, there are at least three adjustments that need to be made to the data before we can get some meaningful insights.\n",
        "\n",
        "1. First, the `issue_date` column needs to be converted to a date/time value before we can look at timeseries data.\n",
        "\n",
        "2. Next, to get any aggregated insights about where in the city rental applications are most prevalent, we'll have to break apart the `location` column into it component address fields.\n",
        "\n",
        "3. And finally, we'll need split the `all_rental_serivces` column so we can know who our competitors are in the city before we launch the pilot."
      ]
    },
    {
      "cell_type": "markdown",
      "metadata": {
        "colab_type": "text",
        "id": "UjwoWqioocv5"
      },
      "source": [
        "## **Converting data from one type to another using `CAST()`**"
      ]
    },
    {
      "cell_type": "markdown",
      "metadata": {
        "colab_type": "text",
        "id": "4eJhYVI9FSkp"
      },
      "source": [
        "Let's get started by converting the `issue_date` to a date value.  Looking at the data as it's currently stored in the database, it appears that the column stores the month, day and year that the rental certification was issue but it's stored as a `TEXT` data type. \n",
        "\n",
        "The `CAST()` function converts the value of one data type to another.  In order to be able to use the `issue_date` in a query and get meaningful results, it needs to be converted from a `TEXT` data type to a `DATE` type and the `CAST()` can perform that operation. \n",
        "\n",
        "There does not appear to be any time of day associated with this column so we can just covert it to a `DATE` data type rather than a `TIMESTAMP` as we originally assumed.  "
      ]
    },
    {
      "cell_type": "code",
      "metadata": {
        "id": "EUR4YWFQxSp_",
        "colab_type": "code",
        "colab": {}
      },
      "source": [
        "%%sql\n",
        "\n",
        "-- Convert issue_date to a date\n",
        "\n",
        "SELECT id, cast(issue_date AS date)\n",
        "FROM rentals \n",
        "LIMIT 5\n"
      ],
      "execution_count": 0,
      "outputs": []
    },
    {
      "cell_type": "markdown",
      "metadata": {
        "id": "Mh-ebCEoINPr",
        "colab_type": "text"
      },
      "source": [
        "Now if we try to sort the dataset by the converted `issue_date` field, let's see if we get expected results."
      ]
    },
    {
      "cell_type": "code",
      "metadata": {
        "colab_type": "code",
        "id": "7-eAeLfwgwGg",
        "colab": {}
      },
      "source": [
        "%%sql\n",
        "\n",
        "-- Convert issue_date to a date and sort ascending\n",
        "\n",
        "SELECT id, cast(issue_date AS date)\n",
        "FROM rentals \n",
        "--ORDER BY cast(issue_date AS date)\n",
        "ORDER BY cast(issue_date AS date) DESC\n",
        "LIMIT 5\n"
      ],
      "execution_count": 0,
      "outputs": []
    },
    {
      "cell_type": "markdown",
      "metadata": {
        "id": "PtuDBcREmzDu",
        "colab_type": "text"
      },
      "source": [
        "## **Extracting string data using `SUBSTRING()` and `POSTIION()`**"
      ]
    },
    {
      "cell_type": "markdown",
      "metadata": {
        "id": "qL6fOCK520zz",
        "colab_type": "text"
      },
      "source": [
        "Great work!  Now let's see what we can do with the `location` field.  Ideally, we would have columns for each address part including street address, postal code, etc. In order to do this we'll need to parse the `location` field into these parts. \n",
        "\n",
        "If we look at the data, we'll see that each part is sperated by a line break or `\\n`. In PostgreSQL we can use `chr(10)` to find this character in a field value. \n",
        "\n",
        "This should make it easy to get what we need and there are a couple of techniques we can use to get there."
      ]
    },
    {
      "cell_type": "code",
      "metadata": {
        "colab_type": "code",
        "id": "DA48iA2ekln0",
        "colab": {}
      },
      "source": [
        "%%sql\n",
        "\n",
        "-- Use substring() and position() functions to parse the location into various address values\n",
        "\n",
        "SELECT substring(location, 0, position(chr(10) IN location)) AS street_address,\n",
        "       substring(location, position(chr(10) IN location)+1, 19) AS city_state_zip,\n",
        "       substring(location, position('(' IN location), position(')' IN location)) AS lat_lon\n",
        "FROM rentals\n",
        "LIMIT 5;\n"
      ],
      "execution_count": 0,
      "outputs": []
    },
    {
      "cell_type": "markdown",
      "metadata": {
        "colab_type": "text",
        "id": "U_SEQo1unakM"
      },
      "source": [
        "## **Extracting string data using `split_part()`**"
      ]
    },
    {
      "cell_type": "markdown",
      "metadata": {
        "id": "Etr-f03ZGbyg",
        "colab_type": "text"
      },
      "source": [
        "THe `split_part()` function parses string data based on a specified delimiter into an `ARRAY` and allows access to each array index by specifying the index value as a parameter in the function.  The query above can be rewritten using the `split_part()` function which as you'll see actually simplifies the query."
      ]
    },
    {
      "cell_type": "code",
      "metadata": {
        "colab_type": "code",
        "id": "4Y9BTRakiD00",
        "colab": {}
      },
      "source": [
        "%%sql\n",
        "\n",
        "-- Use split_part() to parse the location into various address values\n",
        "\n",
        "SELECT split_part(location, chr(10), 1) AS street_address, \n",
        "       split_part(location, chr(10), 2) AS city_state_zip, \n",
        "       split_part(location,chr(10), 3) AS lat_lon\n",
        "FROM rentals\n",
        "LIMIT 5;\n"
      ],
      "execution_count": 0,
      "outputs": []
    },
    {
      "cell_type": "markdown",
      "metadata": {
        "id": "kqv9IrhpwVUf",
        "colab_type": "text"
      },
      "source": [
        "## **Using `ARRAYS` to manipulate strings stored as comma-separated-values**"
      ]
    },
    {
      "cell_type": "code",
      "metadata": {
        "colab_type": "code",
        "id": "tB4-bao_xBL9",
        "colab": {}
      },
      "source": [
        "%%sql\n",
        "\n",
        "-- Use string_to_array() to convert the all_rental_services from a comma-separated-list to an array\n",
        "\n",
        "SELECT id, string_to_array(all_rental_services,',')\n",
        "FROM rentals\n",
        "LIMIT 5;\n"
      ],
      "execution_count": 0,
      "outputs": []
    },
    {
      "cell_type": "markdown",
      "metadata": {
        "id": "B0c9u-XB7V_6",
        "colab_type": "text"
      },
      "source": [
        "Now let's look closer at the result.  The comma-separated-list has been split into an `ARRAY` for each rental.  However, it appears that doing this produces `ARRAYS` with variable lenght which are going to be hard to work with later as we begin our analysis.\n",
        "\n",
        "Ideally, we'd be able to have an indicator for each service to determine whether a rental was using that service.  Let's see if we can figure out how many service sare stored in the `all_rental_services` field.\n",
        "\n",
        "PostgreSQL has a function called `unnest()` that will take an array and create unique rows for each index. Let's see what happens when we use the `unnest()` function on the result of `string_to_array()` for the first rental id 13727."
      ]
    },
    {
      "cell_type": "code",
      "metadata": {
        "colab_type": "code",
        "id": "kjh7KZzt7NxI",
        "colab": {}
      },
      "source": [
        "%%sql\n",
        "\n",
        "-- Nest the string_to_array() function in unnest() to transpose the array into multiple unique rows.\n",
        "\n",
        "SELECT id, unnest(string_to_array(all_rental_services,','))\n",
        "FROM rentals\n",
        "WHERE id = 13727;\n"
      ],
      "execution_count": 0,
      "outputs": []
    },
    {
      "cell_type": "markdown",
      "metadata": {
        "id": "X-afaT9O8sDR",
        "colab_type": "text"
      },
      "source": [
        "The result of the `unnest()` function ened up creating two rows - one for Airbnb and one for HomeAway - both with id 13727.\n",
        "\n",
        "Now we can get use these new skills to determine how many rentals are registered for each service by nesting the query above as a subquery and performing an aggregation to `COUNT()` the number of rental ids for each service. "
      ]
    },
    {
      "cell_type": "code",
      "metadata": {
        "colab_type": "code",
        "id": "7K1VEYrqxozk",
        "colab": {}
      },
      "source": [
        "%%sql\n",
        "\n",
        "-- Use the results from the unnest() function in the query\n",
        "\n",
        "--SELECT count(id), services\n",
        "SELECT count(id), trim(services)\n",
        "FROM\n",
        "(\n",
        "    SELECT id, unnest(string_to_array(all_rental_services,','))\n",
        "    FROM rentals\n",
        " ) as dt(id, services) \n",
        "-- GROUP BY services\n",
        "GROUP BY trim(services)\n",
        "ORDER BY count(id) DESC;\n",
        "       \n"
      ],
      "execution_count": 0,
      "outputs": []
    },
    {
      "cell_type": "markdown",
      "metadata": {
        "colab_type": "text",
        "id": "bIJmQUDhhMF6"
      },
      "source": [
        "## **What Have We Learned About the Short Term Rentals Data?**\n",
        "\n",
        "So far, we have discovered:\n",
        "\n",
        "*   There rentals dataset contains data from March, 2018 through April, 2020.\n",
        "*   The short term rentals market has about 22 different services.\n",
        "\n",
        "\n",
        "\n"
      ]
    },
    {
      "cell_type": "markdown",
      "metadata": {
        "colab_type": "text",
        "id": "kdTzqzSqhMF9"
      },
      "source": [
        "## **Q&A**"
      ]
    },
    {
      "cell_type": "markdown",
      "metadata": {
        "id": "eoUdwC6JD8w5",
        "colab_type": "text"
      },
      "source": [
        "## **Creating a temporary table with our rental services data**"
      ]
    },
    {
      "cell_type": "markdown",
      "metadata": {
        "id": "A3v03h7mHz1k",
        "colab_type": "text"
      },
      "source": [
        "Sometimes when you encountered data that needs to be transformed or manipulated before being usable in queries, you may decide that creating a temporary table with the result of your data manipulation will simplify your data analysis queries. Rather than creating complex queries with multiple subqueries or nested functions, you can create a temporary table and use it more efficiently.  Let's take a closer look"
      ]
    },
    {
      "cell_type": "code",
      "metadata": {
        "colab_type": "code",
        "id": "M3sXy94QAC3J",
        "colab": {}
      },
      "source": [
        "%%sql\n",
        "DROP TABLE IF EXISTS rental_services;\n",
        "-- Convert issue_date to a date and sort ascending\n",
        "CREATE TABLE rental_services AS\n",
        "  SELECT id, unnest(string_to_array(all_rental_services,',')) AS service\n",
        "  FROM rentals;\n",
        "SELECT *\n",
        "FROM rental_services\n",
        "LIMIT 5;\n",
        "       \n"
      ],
      "execution_count": 0,
      "outputs": []
    },
    {
      "cell_type": "code",
      "metadata": {
        "colab_type": "code",
        "id": "-TB7mbbFBkMk",
        "colab": {}
      },
      "source": [
        "%%sql\n",
        "DROP TABLE IF EXISTS address;\n",
        "-- Convert issue_date to a date and sort ascending\n",
        "CREATE TABLE address AS\n",
        "  SELECT id, split_part(location, chr(10), 1) AS street_address, \n",
        "       right(split_part(location, chr(10), 2), 5) AS zip, \n",
        "       split_part(location,chr(10), 3) AS lat_lon\n",
        "  FROM rentals;\n",
        "SELECT *\n",
        "FROM address\n",
        "LIMIT 5;\n"
      ],
      "execution_count": 0,
      "outputs": []
    },
    {
      "cell_type": "markdown",
      "metadata": {
        "id": "z0kAStjhD2aK",
        "colab_type": "text"
      },
      "source": [
        "# **Using temporary tables to simplify complex queries**"
      ]
    },
    {
      "cell_type": "markdown",
      "metadata": {
        "id": "zWo0dHiyIY04",
        "colab_type": "text"
      },
      "source": [
        "Once the temporary tables are created, your queries become much simpler and easier to manage, and you have the ability to run multiple queries against the temporary table which streamlines reuse."
      ]
    },
    {
      "cell_type": "code",
      "metadata": {
        "colab_type": "code",
        "id": "NYRyIe8EDjgH",
        "colab": {}
      },
      "source": [
        "%%sql\n",
        "SELECT a.*, s.*\n",
        "FROM address AS a INNER JOIN rental_services AS s ON a.id=s.id;"
      ],
      "execution_count": 0,
      "outputs": []
    },
    {
      "cell_type": "code",
      "metadata": {
        "colab_type": "code",
        "id": "TWXpN4OeEExe",
        "colab": {}
      },
      "source": [
        "%%sql\n",
        "SELECT a.zip, s.service, count(a.id) as total\n",
        "FROM address AS a INNER JOIN rental_services AS s ON a.id=s.id\n",
        "GROUP BY a.zip, s.service\n",
        "ORDER BY zip, service;"
      ],
      "execution_count": 0,
      "outputs": []
    },
    {
      "cell_type": "markdown",
      "metadata": {
        "id": "ktwpAQzwENwh",
        "colab_type": "text"
      },
      "source": [
        "# **User-defined functions to create reusable code**"
      ]
    },
    {
      "cell_type": "code",
      "metadata": {
        "colab_type": "code",
        "id": "fwp8mi3M7K1X",
        "colab": {}
      },
      "source": [
        "%%sql\n",
        "CREATE OR REPLACE FUNCTION getZipCode (rentalID int)\n",
        "RETURNS varchar(5) AS $$\n",
        "DECLARE zip varchar(5);\n",
        "BEGIN\n",
        "  SELECT right(split_part(location, chr(10), 2), 5) INTO zip\n",
        "  FROM rentals\n",
        "  WHERE id = rentalID;\n",
        "\n",
        "  RETURN zip;\n",
        "END;\n",
        "$$ LANGUAGE plpgsql;\n",
        "\n",
        "SELECT id, location, getZipCode(id) \n",
        "FROM rentals;\n"
      ],
      "execution_count": 0,
      "outputs": []
    },
    {
      "cell_type": "markdown",
      "metadata": {
        "id": "W9FtJ3YREt0R",
        "colab_type": "text"
      },
      "source": [
        "# **Putting it all together!**"
      ]
    },
    {
      "cell_type": "markdown",
      "metadata": {
        "id": "iGP--CR7IrNc",
        "colab_type": "text"
      },
      "source": [
        "Let's now use our new data manipulation skills to dig deeper into the short term rentals data to determine if Cambridge, MA is a good spot to pilot our new short term rentals app.\n",
        "\n",
        "First, we'll see what the growth rate has been over the past couple of years with registrations.\n",
        "\n",
        "Next we'll see what the most popular rental services are in the town.\n",
        "\n",
        "And finally we'll take a look at which zip codes in the city have the largest number of rental units.  \n",
        "\n",
        "Let's get started."
      ]
    },
    {
      "cell_type": "code",
      "metadata": {
        "id": "F0F_l84hIrmY",
        "colab_type": "code",
        "colab": {}
      },
      "source": [
        "%%sql\n",
        "SELECT extract(year FROM CAST(issue_date AS DATE)) AS year, count(id) \n",
        "FROM rentals\n",
        "GROUP BY year\n",
        "ORDER BY year;"
      ],
      "execution_count": 0,
      "outputs": []
    },
    {
      "cell_type": "code",
      "metadata": {
        "colab_type": "code",
        "id": "xEO7QSYp-P_X",
        "colab": {}
      },
      "source": [
        "%%sql\n",
        "SELECT CASE WHEN trim(service) IN('Airbnb', 'HomeAway', 'VRBO', 'FlipKey', \n",
        "                                  'Craigslist', 'Boston_Rentals', 'Couch_Surfing') \n",
        "       THEN trim(service) ELSE 'Other' END as rentalService,\n",
        "      count(r.id) as total\n",
        "FROM rentals AS r INNER JOIN rental_services AS s ON r.id=s.id\n",
        "GROUP BY rentalService\n",
        "ORDER BY total DESC;\n"
      ],
      "execution_count": 0,
      "outputs": []
    },
    {
      "cell_type": "code",
      "metadata": {
        "colab_type": "code",
        "id": "i8zs4-TD-217",
        "colab": {}
      },
      "source": [
        "%%sql\n",
        "SELECT getZipCode(r.id) AS zipCode, count(r.id) as total\n",
        "FROM rentals AS r INNER JOIN rental_services AS s ON r.id=s.id\n",
        "GROUP BY zipCode\n",
        "ORDER BY zipCode;\n"
      ],
      "execution_count": 0,
      "outputs": []
    },
    {
      "cell_type": "markdown",
      "metadata": {
        "id": "ZtpLcVbfE9wv",
        "colab_type": "text"
      },
      "source": [
        "# **Q&A**"
      ]
    },
    {
      "cell_type": "markdown",
      "metadata": {
        "id": "sC8aaMahE3Lq",
        "colab_type": "text"
      },
      "source": [
        "# **Recap and Closing**"
      ]
    },
    {
      "cell_type": "markdown",
      "metadata": {
        "id": "uHe-84ETFFxf",
        "colab_type": "text"
      },
      "source": [
        "Thank you!"
      ]
    }
  ]
}